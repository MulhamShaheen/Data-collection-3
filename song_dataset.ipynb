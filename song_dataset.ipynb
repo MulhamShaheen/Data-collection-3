{
 "cells": [
  {
   "cell_type": "code",
   "execution_count": 1,
   "outputs": [],
   "source": [
    "import pandas as pd"
   ],
   "metadata": {
    "collapsed": false
   }
  },
  {
   "cell_type": "markdown",
   "source": [
    "# Generate yandex link"
   ],
   "metadata": {
    "collapsed": false
   }
  },
  {
   "cell_type": "code",
   "execution_count": 9,
   "outputs": [
    {
     "data": {
      "text/plain": "   track_id             title                   artists  \\\n0  21153564          No Twerk  Apashe, PANTHER, Odalisk   \n1  21501887  To Let Myself Go      The Avener, Ane Brun   \n2  21124705       Better Days   Kevin Blanc, Julia Kins   \n3  24442715            A Like              Leroy Styles   \n4  18385776            Freaks     Timmy Trumpet, Savage   \n\n                          album  album_id                        date  \n0                      No Twerk   2417711  2023-11-25 19:17:58.904555  \n1  The Wanderings Of The Avener   2522992  2023-11-25 19:17:58.904555  \n2                   Better Days  28117866  2023-11-25 19:17:58.904555  \n3                        A Like  16516826  2023-11-25 19:17:58.904555  \n4                        Freaks  19377558  2023-11-25 19:17:58.904555  ",
      "text/html": "<div>\n<style scoped>\n    .dataframe tbody tr th:only-of-type {\n        vertical-align: middle;\n    }\n\n    .dataframe tbody tr th {\n        vertical-align: top;\n    }\n\n    .dataframe thead th {\n        text-align: right;\n    }\n</style>\n<table border=\"1\" class=\"dataframe\">\n  <thead>\n    <tr style=\"text-align: right;\">\n      <th></th>\n      <th>track_id</th>\n      <th>title</th>\n      <th>artists</th>\n      <th>album</th>\n      <th>album_id</th>\n      <th>date</th>\n    </tr>\n  </thead>\n  <tbody>\n    <tr>\n      <th>0</th>\n      <td>21153564</td>\n      <td>No Twerk</td>\n      <td>Apashe, PANTHER, Odalisk</td>\n      <td>No Twerk</td>\n      <td>2417711</td>\n      <td>2023-11-25 19:17:58.904555</td>\n    </tr>\n    <tr>\n      <th>1</th>\n      <td>21501887</td>\n      <td>To Let Myself Go</td>\n      <td>The Avener, Ane Brun</td>\n      <td>The Wanderings Of The Avener</td>\n      <td>2522992</td>\n      <td>2023-11-25 19:17:58.904555</td>\n    </tr>\n    <tr>\n      <th>2</th>\n      <td>21124705</td>\n      <td>Better Days</td>\n      <td>Kevin Blanc, Julia Kins</td>\n      <td>Better Days</td>\n      <td>28117866</td>\n      <td>2023-11-25 19:17:58.904555</td>\n    </tr>\n    <tr>\n      <th>3</th>\n      <td>24442715</td>\n      <td>A Like</td>\n      <td>Leroy Styles</td>\n      <td>A Like</td>\n      <td>16516826</td>\n      <td>2023-11-25 19:17:58.904555</td>\n    </tr>\n    <tr>\n      <th>4</th>\n      <td>18385776</td>\n      <td>Freaks</td>\n      <td>Timmy Trumpet, Savage</td>\n      <td>Freaks</td>\n      <td>19377558</td>\n      <td>2023-11-25 19:17:58.904555</td>\n    </tr>\n  </tbody>\n</table>\n</div>"
     },
     "execution_count": 9,
     "metadata": {},
     "output_type": "execute_result"
    }
   ],
   "source": [
    "yandex_df = pd.read_csv(\"yandex.csv\",\n",
    "                        names=[\"track_id\", \"title\",\"artists\", \"album\", \"album_id\", \"date\"])\n",
    "yandex_df.head()"
   ],
   "metadata": {
    "collapsed": false,
    "ExecuteTime": {
     "end_time": "2024-01-08T17:56:21.998762700Z",
     "start_time": "2024-01-08T17:56:21.952106700Z"
    }
   }
  },
  {
   "cell_type": "code",
   "execution_count": 11,
   "outputs": [],
   "source": [
    "urls = []\n",
    "for i, song in yandex_df.iterrows():\n",
    "    track_id = song[\"track_id\"]\n",
    "    album_id = song[\"album_id\"]\n",
    "\n",
    "    url = f\"https://music.yandex.ru/album/{album_id}/track/{track_id}\"\n",
    "    urls.append(url)\n"
   ],
   "metadata": {
    "collapsed": false,
    "ExecuteTime": {
     "end_time": "2024-01-08T18:23:30.234882300Z",
     "start_time": "2024-01-08T18:23:30.219514300Z"
    }
   }
  },
  {
   "cell_type": "code",
   "execution_count": 12,
   "outputs": [],
   "source": [
    "yandex_df.insert(2, \"url\", urls, True)"
   ],
   "metadata": {
    "collapsed": false,
    "ExecuteTime": {
     "end_time": "2024-01-08T18:23:45.205683500Z",
     "start_time": "2024-01-08T18:23:45.150751100Z"
    }
   }
  },
  {
   "cell_type": "code",
   "execution_count": 13,
   "outputs": [
    {
     "data": {
      "text/plain": "      track_id                title  \\\n0     21153564             No Twerk   \n1     21501887     To Let Myself Go   \n2     21124705          Better Days   \n3     24442715               A Like   \n4     18385776               Freaks   \n..         ...                  ...   \n96    58337786  Rivers flows in you   \n97    74821718  Young and Beautiful   \n98    72884053      Meera Man Loche   \n99     8122853              Tvameva   \n100  114495392            Awakening   \n\n                                                   url  \\\n0    https://music.yandex.ru/album/2417711/track/21...   \n1    https://music.yandex.ru/album/2522992/track/21...   \n2    https://music.yandex.ru/album/28117866/track/2...   \n3    https://music.yandex.ru/album/16516826/track/2...   \n4    https://music.yandex.ru/album/19377558/track/1...   \n..                                                 ...   \n96   https://music.yandex.ru/album/8839701/track/58...   \n97   https://music.yandex.ru/album/13110173/track/7...   \n98   https://music.yandex.ru/album/12588195/track/7...   \n99   https://music.yandex.ru/album/28064217/track/8...   \n100  https://music.yandex.ru/album/26149560/track/1...   \n\n                                            artists  \\\n0                          Apashe, PANTHER, Odalisk   \n1                              The Avener, Ane Brun   \n2                           Kevin Blanc, Julia Kins   \n3                                      Leroy Styles   \n4                             Timmy Trumpet, Savage   \n..                                              ...   \n96                                  Simone Anichini   \n97                                     Yoga Pop Ups   \n98   Hari Bhajan Kaur Khalsa, Sat Hari Singh Khalsa   \n99                           Sudha, Maneesh de Moor   \n100                                     Valeria Ray   \n\n                                 album  album_id                        date  \n0                             No Twerk   2417711  2023-11-25 19:17:58.904555  \n1         The Wanderings Of The Avener   2522992  2023-11-25 19:17:58.904555  \n2                          Better Days  28117866  2023-11-25 19:17:58.904555  \n3                               A Like  16516826  2023-11-25 19:17:58.904555  \n4                               Freaks  19377558  2023-11-25 19:17:58.904555  \n..                                 ...       ...                         ...  \n96                Piano Dreams, Vol. 2   8839701  2023-11-25 19:18:00.571516  \n97   Yogi Translations of Lana Del Rey  13110173  2023-11-25 19:18:00.571516  \n98                Servant Of The Heart  12588195  2023-11-25 19:18:00.571516  \n99                            Sharanam  28064217  2023-11-25 19:18:00.571516  \n100         Музыка для медитации: Ханг  26149560  2023-11-25 19:18:00.571516  \n\n[101 rows x 7 columns]",
      "text/html": "<div>\n<style scoped>\n    .dataframe tbody tr th:only-of-type {\n        vertical-align: middle;\n    }\n\n    .dataframe tbody tr th {\n        vertical-align: top;\n    }\n\n    .dataframe thead th {\n        text-align: right;\n    }\n</style>\n<table border=\"1\" class=\"dataframe\">\n  <thead>\n    <tr style=\"text-align: right;\">\n      <th></th>\n      <th>track_id</th>\n      <th>title</th>\n      <th>url</th>\n      <th>artists</th>\n      <th>album</th>\n      <th>album_id</th>\n      <th>date</th>\n    </tr>\n  </thead>\n  <tbody>\n    <tr>\n      <th>0</th>\n      <td>21153564</td>\n      <td>No Twerk</td>\n      <td>https://music.yandex.ru/album/2417711/track/21...</td>\n      <td>Apashe, PANTHER, Odalisk</td>\n      <td>No Twerk</td>\n      <td>2417711</td>\n      <td>2023-11-25 19:17:58.904555</td>\n    </tr>\n    <tr>\n      <th>1</th>\n      <td>21501887</td>\n      <td>To Let Myself Go</td>\n      <td>https://music.yandex.ru/album/2522992/track/21...</td>\n      <td>The Avener, Ane Brun</td>\n      <td>The Wanderings Of The Avener</td>\n      <td>2522992</td>\n      <td>2023-11-25 19:17:58.904555</td>\n    </tr>\n    <tr>\n      <th>2</th>\n      <td>21124705</td>\n      <td>Better Days</td>\n      <td>https://music.yandex.ru/album/28117866/track/2...</td>\n      <td>Kevin Blanc, Julia Kins</td>\n      <td>Better Days</td>\n      <td>28117866</td>\n      <td>2023-11-25 19:17:58.904555</td>\n    </tr>\n    <tr>\n      <th>3</th>\n      <td>24442715</td>\n      <td>A Like</td>\n      <td>https://music.yandex.ru/album/16516826/track/2...</td>\n      <td>Leroy Styles</td>\n      <td>A Like</td>\n      <td>16516826</td>\n      <td>2023-11-25 19:17:58.904555</td>\n    </tr>\n    <tr>\n      <th>4</th>\n      <td>18385776</td>\n      <td>Freaks</td>\n      <td>https://music.yandex.ru/album/19377558/track/1...</td>\n      <td>Timmy Trumpet, Savage</td>\n      <td>Freaks</td>\n      <td>19377558</td>\n      <td>2023-11-25 19:17:58.904555</td>\n    </tr>\n    <tr>\n      <th>...</th>\n      <td>...</td>\n      <td>...</td>\n      <td>...</td>\n      <td>...</td>\n      <td>...</td>\n      <td>...</td>\n      <td>...</td>\n    </tr>\n    <tr>\n      <th>96</th>\n      <td>58337786</td>\n      <td>Rivers flows in you</td>\n      <td>https://music.yandex.ru/album/8839701/track/58...</td>\n      <td>Simone Anichini</td>\n      <td>Piano Dreams, Vol. 2</td>\n      <td>8839701</td>\n      <td>2023-11-25 19:18:00.571516</td>\n    </tr>\n    <tr>\n      <th>97</th>\n      <td>74821718</td>\n      <td>Young and Beautiful</td>\n      <td>https://music.yandex.ru/album/13110173/track/7...</td>\n      <td>Yoga Pop Ups</td>\n      <td>Yogi Translations of Lana Del Rey</td>\n      <td>13110173</td>\n      <td>2023-11-25 19:18:00.571516</td>\n    </tr>\n    <tr>\n      <th>98</th>\n      <td>72884053</td>\n      <td>Meera Man Loche</td>\n      <td>https://music.yandex.ru/album/12588195/track/7...</td>\n      <td>Hari Bhajan Kaur Khalsa, Sat Hari Singh Khalsa</td>\n      <td>Servant Of The Heart</td>\n      <td>12588195</td>\n      <td>2023-11-25 19:18:00.571516</td>\n    </tr>\n    <tr>\n      <th>99</th>\n      <td>8122853</td>\n      <td>Tvameva</td>\n      <td>https://music.yandex.ru/album/28064217/track/8...</td>\n      <td>Sudha, Maneesh de Moor</td>\n      <td>Sharanam</td>\n      <td>28064217</td>\n      <td>2023-11-25 19:18:00.571516</td>\n    </tr>\n    <tr>\n      <th>100</th>\n      <td>114495392</td>\n      <td>Awakening</td>\n      <td>https://music.yandex.ru/album/26149560/track/1...</td>\n      <td>Valeria Ray</td>\n      <td>Музыка для медитации: Ханг</td>\n      <td>26149560</td>\n      <td>2023-11-25 19:18:00.571516</td>\n    </tr>\n  </tbody>\n</table>\n<p>101 rows × 7 columns</p>\n</div>"
     },
     "execution_count": 13,
     "metadata": {},
     "output_type": "execute_result"
    }
   ],
   "source": [
    "yandex_df"
   ],
   "metadata": {
    "collapsed": false,
    "ExecuteTime": {
     "end_time": "2024-01-08T18:23:50.968075900Z",
     "start_time": "2024-01-08T18:23:50.935764500Z"
    }
   }
  }
 ],
 "metadata": {
  "kernelspec": {
   "display_name": "Python 3",
   "language": "python",
   "name": "python3"
  },
  "language_info": {
   "codemirror_mode": {
    "name": "ipython",
    "version": 2
   },
   "file_extension": ".py",
   "mimetype": "text/x-python",
   "name": "python",
   "nbconvert_exporter": "python",
   "pygments_lexer": "ipython2",
   "version": "2.7.6"
  }
 },
 "nbformat": 4,
 "nbformat_minor": 0
}
